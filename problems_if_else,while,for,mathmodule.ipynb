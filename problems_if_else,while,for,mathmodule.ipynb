{
  "nbformat": 4,
  "nbformat_minor": 0,
  "metadata": {
    "colab": {
      "provenance": []
    },
    "kernelspec": {
      "name": "python3",
      "display_name": "Python 3"
    },
    "language_info": {
      "name": "python"
    }
  },
  "cells": [
    {
      "cell_type": "code",
      "source": [
        "print(\"hello\")"
      ],
      "metadata": {
        "colab": {
          "base_uri": "https://localhost:8080/"
        },
        "id": "EDSTdA3A7WVW",
        "outputId": "aa05711b-1677-49a8-db66-36ef4de91717"
      },
      "execution_count": null,
      "outputs": [
        {
          "output_type": "stream",
          "name": "stdout",
          "text": [
            "hello\n"
          ]
        }
      ]
    },
    {
      "cell_type": "code",
      "source": [
        "#math module\n",
        "import math\n",
        "print(\"acos:\",math.acos(0.55))\n",
        "print(\"acosh:\",math.acosh(5))\n",
        "print(math.asin(0.55))\n",
        "print(math.asinh(0.55))\n",
        "print(math.atan(0.55))\n",
        "print(math.atanh(0.55))\n",
        "print(math.ceil(12.78))\n",
        "print(math.factorial(6))\n",
        "print(math.gcd(3,18))\n",
        "print(math.pow(4,3))\n",
        "print(math.degrees(-0.87))\n",
        "print(math.floor(7.8))\n",
        "print(math.sqrt(481))\n",
        "print(math.copysign(4, -1))\n"
      ],
      "metadata": {
        "colab": {
          "base_uri": "https://localhost:8080/"
        },
        "id": "dtzyZgMA7ezQ",
        "outputId": "26567469-fe67-432c-a919-ae56c1dc5a91"
      },
      "execution_count": null,
      "outputs": [
        {
          "output_type": "stream",
          "name": "stdout",
          "text": [
            "0.9884320889261531\n",
            "2.2924316695611777\n",
            "0.5823642378687435\n",
            "0.5254804479785136\n",
            "0.5028432109278609\n",
            "0.6183813135744636\n",
            "13\n",
            "720\n",
            "3\n",
            "64.0\n",
            "-49.84732817638162\n",
            "7\n",
            "21.93171219946131\n",
            "-4.0\n"
          ]
        }
      ]
    },
    {
      "cell_type": "code",
      "source": [
        "#abcd... = pow(a,n) + pow(b,n) + pow(c,n) + pow(d,n) + ....\n",
        "n=int(input(\"enter n:\"))\n",
        "s = n  # assigning input value to the s variable\n",
        "b = len(str(n))\n",
        "sum1 = 0\n",
        "while n != 0:\n",
        "    r = n % 10\n",
        "    sum1 = sum1+(r**b)\n",
        "    n = n//10\n",
        "if s == sum1:\n",
        "    print(\"The given number\", s, \"is armstrong number\")\n",
        "else:\n",
        "    print(\"The given number\", s, \"is not armstrong number\")"
      ],
      "metadata": {
        "colab": {
          "base_uri": "https://localhost:8080/"
        },
        "id": "YLUB3tcP-6pj",
        "outputId": "17d41398-8b1b-4ab9-c9c7-a2860db24491"
      },
      "execution_count": null,
      "outputs": [
        {
          "output_type": "stream",
          "name": "stdout",
          "text": [
            "enter n:456\n",
            "The given number 456 is not armstrong number\n"
          ]
        }
      ]
    },
    {
      "cell_type": "code",
      "source": [
        "#for loop , no even or odd\n",
        "\n"
      ],
      "metadata": {
        "id": "0O8p0GgZ_mCL"
      },
      "execution_count": null,
      "outputs": []
    },
    {
      "cell_type": "code",
      "source": [],
      "metadata": {
        "id": "sBsbfjCTET5v"
      },
      "execution_count": null,
      "outputs": []
    },
    {
      "cell_type": "code",
      "source": [
        "#aa> 75 then grade distinction , agg>=60 aqnd agg<75 \"AVERAGE:\",avg\n",
        "name=input(\"enter your name :\")\n",
        "maths=float(input(\"enter maths marks:\"))\n",
        "sst=float(input(\"enter sst marks:\"))\n",
        "sci=float(input(\"enter science marks:\"))\n",
        "computer=float(input(\"enter computer marks:\"))\n",
        "t=maths+sst+sci+computer\n",
        "avg=t/4\n",
        "if avg>=75:\n",
        "  print(\"AVERAGE:\",avg,\"grade :distinction\")\n",
        "elif avg>=60 and avg<75 :\n",
        "  print(\"AVERAGE:\",avg,\"First division\")\n",
        "elif avg>=50 and avg<60 :\n",
        "  print(\"AVERAGE:\",avg,\"second division\")\n",
        "elif avg>=40 and avg<50 :\n",
        "  print(\"AVERAGE:\",avg,\"third division\")\n",
        "else:\n",
        "  print(\"AVERAGE:\",avg,\"FAIL\")"
      ],
      "metadata": {
        "colab": {
          "base_uri": "https://localhost:8080/"
        },
        "id": "Zj8iA7RAAiAt",
        "outputId": "7e61b929-ccfc-4722-9442-6541414bf670"
      },
      "execution_count": null,
      "outputs": [
        {
          "output_type": "stream",
          "name": "stdout",
          "text": [
            "enter your name :nandu\n",
            "enter maths marks:48\n",
            "enter sst marks:59\n",
            "enter science marks:82\n",
            "enter computer marks:94\n",
            "AVERAGE: 70.75 First division\n"
          ]
        }
      ]
    },
    {
      "cell_type": "code",
      "source": [
        "#all leap year in 1900-2100\n",
        "print(\"the leap years:\\n \")\n",
        "for i in range(1904,2097,4):\n",
        "  print(i)"
      ],
      "metadata": {
        "colab": {
          "base_uri": "https://localhost:8080/"
        },
        "id": "uDWAK8KPB8Jn",
        "outputId": "30789bdb-a136-4480-f477-d802f2781cfb"
      },
      "execution_count": null,
      "outputs": [
        {
          "output_type": "stream",
          "name": "stdout",
          "text": [
            "the leap years:\n",
            " \n",
            "1904\n",
            "1908\n",
            "1912\n",
            "1916\n",
            "1920\n",
            "1924\n",
            "1928\n",
            "1932\n",
            "1936\n",
            "1940\n",
            "1944\n",
            "1948\n",
            "1952\n",
            "1956\n",
            "1960\n",
            "1964\n",
            "1968\n",
            "1972\n",
            "1976\n",
            "1980\n",
            "1984\n",
            "1988\n",
            "1992\n",
            "1996\n",
            "2000\n",
            "2004\n",
            "2008\n",
            "2012\n",
            "2016\n",
            "2020\n",
            "2024\n",
            "2028\n",
            "2032\n",
            "2036\n",
            "2040\n",
            "2044\n",
            "2048\n",
            "2052\n",
            "2056\n",
            "2060\n",
            "2064\n",
            "2068\n",
            "2072\n",
            "2076\n",
            "2080\n",
            "2084\n",
            "2088\n",
            "2092\n",
            "2096\n"
          ]
        }
      ]
    },
    {
      "cell_type": "code",
      "source": [
        "# 20 horizontal stars\n",
        "for i in range(1,21):\n",
        "  print(\"*\")"
      ],
      "metadata": {
        "colab": {
          "base_uri": "https://localhost:8080/"
        },
        "id": "r59TEJsRDEws",
        "outputId": "da33ca76-4485-468d-8a60-02712749f6e0"
      },
      "execution_count": null,
      "outputs": [
        {
          "output_type": "stream",
          "name": "stdout",
          "text": [
            "*\n",
            "*\n",
            "*\n",
            "*\n",
            "*\n",
            "*\n",
            "*\n",
            "*\n",
            "*\n",
            "*\n",
            "*\n",
            "*\n",
            "*\n",
            "*\n",
            "*\n",
            "*\n",
            "*\n",
            "*\n",
            "*\n",
            "*\n"
          ]
        }
      ]
    },
    {
      "cell_type": "code",
      "source": [
        "#multiplication table\n",
        "n=int(input(\"enter n :\"))\n",
        "for i in range(1,11):\n",
        "  print(n,\"x\",i,\"=\",i*n)"
      ],
      "metadata": {
        "colab": {
          "base_uri": "https://localhost:8080/"
        },
        "id": "TZcy9Kk0Daem",
        "outputId": "6e773759-b11a-4721-e790-6b3908e9f7ef"
      },
      "execution_count": null,
      "outputs": [
        {
          "output_type": "stream",
          "name": "stdout",
          "text": [
            "enter n :2\n",
            "2 x 1 = 2\n",
            "2 x 2 = 4\n",
            "2 x 3 = 6\n",
            "2 x 4 = 8\n",
            "2 x 5 = 10\n",
            "2 x 6 = 12\n",
            "2 x 7 = 14\n",
            "2 x 8 = 16\n",
            "2 x 9 = 18\n",
            "2 x 10 = 20\n"
          ]
        }
      ]
    },
    {
      "cell_type": "code",
      "source": [
        "#sum of first 10 natuarl numbe4rs\n",
        "s=0\n",
        "for i in range(1,11):\n",
        "  s=s+i\n",
        "  i=i+1\n",
        "print(s,\"sum of all natural numbers\")"
      ],
      "metadata": {
        "colab": {
          "base_uri": "https://localhost:8080/"
        },
        "id": "NKg7GsDCD3Ma",
        "outputId": "27dd3fbe-52bf-4aec-9c32-5de21f750e27"
      },
      "execution_count": null,
      "outputs": [
        {
          "output_type": "stream",
          "name": "stdout",
          "text": [
            "55 sum of all natural numbers\n"
          ]
        }
      ]
    }
  ]
}